{
  "nbformat": 4,
  "nbformat_minor": 0,
  "metadata": {
    "colab": {
      "provenance": []
    },
    "kernelspec": {
      "name": "python3",
      "display_name": "Python 3"
    },
    "language_info": {
      "name": "python"
    }
  },
  "cells": [
    {
      "cell_type": "markdown",
      "source": [
        "# Data Science Tools and Ecosystem"
      ],
      "metadata": {
        "id": "qeq2OsUUGdwE"
      }
    },
    {
      "cell_type": "markdown",
      "source": [
        "In this notebook, Data Science Tools and Ecosystem are summarized."
      ],
      "metadata": {
        "id": "DE__DeOtHA8q"
      }
    },
    {
      "cell_type": "markdown",
      "source": [
        "**Objectives**:\n",
        "*   List popular languages for Data Science\n",
        "*   List some of the libraries used by Data Scientists\n",
        "*   List some of the Data Science Tools\n",
        "*   Explore evaluating arithmetic expressions in Python\n",
        "\n"
      ],
      "metadata": {
        "id": "dxqaAbLdPb_-"
      }
    },
    {
      "cell_type": "markdown",
      "source": [
        "Some of the popular languages that Data Scientists use are:\n",
        "\n",
        "\n",
        "1. Python\n",
        "2. R\n",
        "3. Julia\n",
        "\n"
      ],
      "metadata": {
        "id": "ZxFXQZSQHVgo"
      }
    },
    {
      "cell_type": "markdown",
      "source": [
        "Some of the commonly used libraries used by Data Scientists include:\n",
        "\n",
        "\n",
        "1.   Pandas\n",
        "2.   Numpy\n",
        "3. Scikit-learn\n",
        "4. Keras\n",
        "\n"
      ],
      "metadata": {
        "id": "X-x6qda_I03Y"
      }
    },
    {
      "cell_type": "markdown",
      "source": [
        "| Data Science Tools |\n",
        "| --- |\n",
        "| JupyterLab |\n",
        "| Apache Spark |\n",
        "| Git |"
      ],
      "metadata": {
        "id": "3ZThEDuOJVqm"
      }
    },
    {
      "cell_type": "markdown",
      "source": [
        "### Below are a few examples of evaluating arithmetic expressions in Python"
      ],
      "metadata": {
        "id": "KqMEGD_BNczW"
      }
    },
    {
      "cell_type": "code",
      "source": [
        "# This a simple arithmetic expression to mutiply then add integers\n",
        "(3*4)+5"
      ],
      "metadata": {
        "colab": {
          "base_uri": "https://localhost:8080/"
        },
        "id": "fhdqVje0N4pj",
        "outputId": "0e97dbc0-003e-4144-b27c-946d826ff258"
      },
      "execution_count": null,
      "outputs": [
        {
          "output_type": "execute_result",
          "data": {
            "text/plain": [
              "17"
            ]
          },
          "metadata": {},
          "execution_count": 1
        }
      ]
    },
    {
      "cell_type": "code",
      "source": [
        "# This will convert 200 minutes to hours by diving by 60\n",
        "200/60"
      ],
      "metadata": {
        "colab": {
          "base_uri": "https://localhost:8080/"
        },
        "id": "eOLYZRQPOfxm",
        "outputId": "c1fa75b5-548d-41ce-d46b-37f0f94a0736"
      },
      "execution_count": null,
      "outputs": [
        {
          "output_type": "execute_result",
          "data": {
            "text/plain": [
              "3.3333333333333335"
            ]
          },
          "metadata": {},
          "execution_count": 2
        }
      ]
    },
    {
      "cell_type": "markdown",
      "source": [
        "## Author\n",
        "Daria Pozniak"
      ],
      "metadata": {
        "id": "DjBOGbzXRGQO"
      }
    }
  ]
}